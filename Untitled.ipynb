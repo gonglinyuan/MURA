{
 "cells": [
  {
   "cell_type": "code",
   "execution_count": 1,
   "metadata": {
    "collapsed": true
   },
   "outputs": [],
   "source": [
    "import os\n",
    "import numpy as np\n",
    "import torch\n",
    "from torch.utils.data import DataLoader\n",
    "from torchvision.datasets import ImageFolder\n",
    "import torchvision.transforms as transforms\n",
    "from PIL import ImageFilter, Image"
   ]
  },
  {
   "cell_type": "code",
   "execution_count": 2,
   "metadata": {
    "collapsed": true
   },
   "outputs": [],
   "source": [
    "def remove_background(img):\n",
    "    threshold = 8\n",
    "    lookup = [256 - 1] * (256 - threshold) + [0] * threshold\n",
    "    shape = img.size\n",
    "    arr = np.array(img.convert('L')\n",
    "                   .filter(ImageFilter.MedianFilter(size=3))\n",
    "                   .filter(ImageFilter.MaxFilter(size=3))\n",
    "                   .filter(ImageFilter.CONTOUR)\n",
    "                   .crop([1, 1, shape[0] - 1, shape[1] - 1])\n",
    "                   .point(lookup)\n",
    "                   .filter(ImageFilter.MedianFilter(size=3))\n",
    "                   .filter(ImageFilter.MaxFilter(size=3)))\n",
    "    u, d, l, r = 0, arr.shape[0], 0, arr.shape[1]\n",
    "    while u + 1 < d and np.max(arr[u, :]) == 0:\n",
    "        u += 1\n",
    "    while u + 1 < d and np.max(arr[d - 1, :]) == 0:\n",
    "        d -= 1\n",
    "    while l + 1 < r and np.max(arr[:, l]) == 0:\n",
    "        l += 1\n",
    "    while l + 1 < r and np.max(arr[:, r - 1]) == 0:\n",
    "        r -= 1\n",
    "    return img.crop([l, u, r, d])"
   ]
  },
  {
   "cell_type": "code",
   "execution_count": 3,
   "metadata": {
    "collapsed": true
   },
   "outputs": [],
   "source": [
    "trans = transforms.Compose([transforms.Lambda(remove_background),\n",
    "                            transforms.Resize(256),\n",
    "                            transforms.RandomCrop(224, pad_if_needed=True),\n",
    "                            transforms.ToTensor()])"
   ]
  },
  {
   "cell_type": "code",
   "execution_count": 18,
   "metadata": {},
   "outputs": [],
   "source": [
    "lst = list(os.walk(\"../MURA_trainval_keras/0\"))[0][2]\n",
    "np.random.shuffle(lst)\n",
    "r, r2, c = 0.0, 0.0, 0\n",
    "with torch.no_grad():\n",
    "    for file_name in lst:\n",
    "        img = Image.open(\"../MURA_trainval_keras/0/\" + file_name)\n",
    "        arr = trans(img)\n",
    "        r += torch.mean(arr).item()\n",
    "        r2 += torch.mean(arr ** 2).item()\n",
    "        c += 1\n",
    "        if c > 6000:\n",
    "            break"
   ]
  },
  {
   "cell_type": "code",
   "execution_count": 20,
   "metadata": {},
   "outputs": [
    {
     "name": "stdout",
     "output_type": "stream",
     "text": [
      "0.2536153043662579\n",
      "0.168205972008607\n"
     ]
    }
   ],
   "source": [
    "print(r / c)\n",
    "print(np.sqrt((r2 / c) - (r / c) ** 2))"
   ]
  }
 ],
 "metadata": {
  "kernelspec": {
   "display_name": "Python 3",
   "language": "python",
   "name": "python3"
  },
  "language_info": {
   "codemirror_mode": {
    "name": "ipython",
    "version": 3
   },
   "file_extension": ".py",
   "mimetype": "text/x-python",
   "name": "python",
   "nbconvert_exporter": "python",
   "pygments_lexer": "ipython3",
   "version": "3.6.2"
  }
 },
 "nbformat": 4,
 "nbformat_minor": 2
}
