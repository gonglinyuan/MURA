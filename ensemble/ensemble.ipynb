{
 "cells": [
  {
   "cell_type": "code",
   "execution_count": 44,
   "metadata": {
    "collapsed": true
   },
   "outputs": [],
   "source": [
    "import os\n",
    "import pandas\n",
    "import numpy as np\n",
    "import sklearn.svm\n",
    "import sklearn.linear_model\n",
    "import scipy.optimize\n",
    "import sklearn.metrics\n",
    "import sklearn.ensemble\n",
    "import xgboost"
   ]
  },
  {
   "cell_type": "code",
   "execution_count": 2,
   "metadata": {
    "collapsed": true
   },
   "outputs": [],
   "source": [
    "suf = ['018', '564', '573', '029', '129', '634', '784']"
   ]
  },
  {
   "cell_type": "code",
   "execution_count": 3,
   "metadata": {
    "collapsed": true
   },
   "outputs": [],
   "source": [
    "indices = pandas.read_csv(\"../../prediction_018.csv\", header=None, index_col=0).index\n",
    "yl = []\n",
    "for s in indices:\n",
    "    if s.endswith('positive'):\n",
    "        yl.append(1)\n",
    "    elif s.endswith('negative'):\n",
    "        yl.append(0)\n",
    "    else:\n",
    "        raise \"Error\"\n",
    "y = np.array(yl)\n",
    "x = np.zeros((len(indices), len(suf) * 3))\n",
    "for i in range(len(suf)):\n",
    "    dfv = pandas.read_csv(\"../../prediction_\" + suf[i] + \".csv\", header=None, index_col=0).get_values()\n",
    "    x[:, i*3:i*3+3] = dfv"
   ]
  },
  {
   "cell_type": "code",
   "execution_count": 4,
   "metadata": {
    "collapsed": true
   },
   "outputs": [],
   "source": [
    "indices = pandas.read_csv(\"../../prediction_v_018.csv\", header=None, index_col=0).index\n",
    "yl = []\n",
    "for s in indices:\n",
    "    if s.endswith('positive'):\n",
    "        yl.append(1)\n",
    "    elif s.endswith('negative'):\n",
    "        yl.append(0)\n",
    "    else:\n",
    "        raise \"Error\"\n",
    "y_v = np.array(yl)\n",
    "x_v = np.zeros((len(indices), len(suf) * 3))\n",
    "for i in range(len(suf)):\n",
    "    dfv = pandas.read_csv(\"../../prediction_v_\" + suf[i] + \".csv\", header=None, index_col=0).get_values()\n",
    "    x_v[:, i*3:i*3+3] = dfv"
   ]
  },
  {
   "cell_type": "code",
   "execution_count": 37,
   "metadata": {},
   "outputs": [
    {
     "name": "stdout",
     "output_type": "stream",
     "text": [
      "0.9190842245989305 0.8455284552845529\n",
      "0.9187500000000001 0.8495934959349594\n",
      "0.9171122994652406 0.8455284552845529\n",
      "0.9162433155080214 0.8577235772357723\n",
      "0.9110294117647059 0.8617886178861789\n",
      "0.9068181818181817 0.8617886178861789\n",
      "0.9037433155080213 0.8536585365853658\n",
      "0.9032085561497326 0.8536585365853658\n",
      "0.9031417112299466 0.8536585365853658\n"
     ]
    }
   ],
   "source": [
    "for c in [0.01, 0.03, 0.1, 0.3, 1.0, 3.0, 10.0, 30.0, 100.0]:\n",
    "    model = sklearn.svm.SVC(C=c, kernel='linear', class_weight='balanced', probability=True)\n",
    "    model.fit(x, y)\n",
    "#     print(sklearn.metrics.roc_auc_score(y, model.predict_proba(x)[:,1]), model.score(x, y))\n",
    "    print(sklearn.metrics.roc_auc_score(y_v, model.predict_proba(x_v)[:,1]), model.score(x_v, y_v))"
   ]
  },
  {
   "cell_type": "code",
   "execution_count": 42,
   "metadata": {},
   "outputs": [
    {
     "name": "stdout",
     "output_type": "stream",
     "text": [
      "0.9185828877005348 0.8333333333333334\n",
      "0.9186497326203209 0.8292682926829268\n",
      "0.9185828877005348 0.8089430894308943\n",
      "0.9187165775401069 0.8333333333333334\n",
      "0.9186497326203209 0.8414634146341463\n",
      "0.9185828877005348 0.8292682926829268\n",
      "0.918783422459893 0.8455284552845529\n",
      "0.9187834224598931 0.8333333333333334\n",
      "0.9189839572192513 0.8373983739837398\n",
      "0.9187165775401069 0.8495934959349594\n",
      "0.9187165775401069 0.8373983739837398\n",
      "0.9188502673796792 0.8333333333333334\n",
      "0.9181818181818182 0.8495934959349594\n",
      "0.9186497326203209 0.8414634146341463\n",
      "0.9185160427807487 0.8333333333333334\n",
      "0.9162433155080214 0.8455284552845529\n",
      "0.9173796791443851 0.8455284552845529\n",
      "0.9181149732620322 0.8333333333333334\n",
      "0.9148395721925134 0.8495934959349594\n",
      "0.9146390374331551 0.8495934959349594\n",
      "0.9142379679144385 0.8455284552845529\n",
      "0.9151069518716578 0.8455284552845529\n",
      "0.9012032085561498 0.8495934959349594\n",
      "0.9012032085561498 0.8495934959349594\n",
      "0.9021390374331553 0.8414634146341463\n",
      "0.9019385026737967 0.8455284552845529\n",
      "0.9032085561497326 0.8455284552845529\n"
     ]
    }
   ],
   "source": [
    "for c in [0.01, 0.03, 0.1, 0.3, 1.0, 3.0, 10.0, 30.0, 100.0]:\n",
    "    for d in [2, 3, 4]:\n",
    "        model = sklearn.svm.SVC(C=c, kernel='poly', degree=d, class_weight='balanced', probability=True)\n",
    "        model.fit(x, y)\n",
    "#         print(sklearn.metrics.roc_auc_score(y, model.predict_proba(x)[:,1]), model.score(x, y))\n",
    "        print(sklearn.metrics.roc_auc_score(y_v, model.predict_proba(x_v)[:,1]), model.score(x_v, y_v))"
   ]
  },
  {
   "cell_type": "code",
   "execution_count": 47,
   "metadata": {},
   "outputs": [
    {
     "name": "stdout",
     "output_type": "stream",
     "text": [
      "0.8901427873202067 0.7713097713097713\n",
      "0.8616978609625668 0.7642276422764228\n"
     ]
    }
   ],
   "source": [
    "model = sklearn.ensemble.AdaBoostClassifier(base_estimator=sklearn.svm.SVC(C=10.0, kernel='linear', class_weight='balanced', probability=True), n_estimators=50, learning_rate=1.0, algorithm='SAMME.R')\n",
    "model.fit(x, y)\n",
    "print(sklearn.metrics.roc_auc_score(y, model.predict_proba(x)[:,1]), model.score(x, y))\n",
    "print(sklearn.metrics.roc_auc_score(y_v, model.predict_proba(x_v)[:,1]), model.score(x_v, y_v))"
   ]
  },
  {
   "cell_type": "code",
   "execution_count": 43,
   "metadata": {},
   "outputs": [
    {
     "name": "stdout",
     "output_type": "stream",
     "text": [
      "0.919385026737968 0.8536585365853658\n",
      "0.9195855614973263 0.8495934959349594\n",
      "0.9191844919786096 0.8414634146341463\n",
      "0.9157085561497326 0.8455284552845529\n",
      "0.9008689839572193 0.8414634146341463\n",
      "0.9002005347593582 0.8495934959349594\n",
      "0.893048128342246 0.8577235772357723\n",
      "0.8951203208556151 0.8577235772357723\n",
      "0.8915775401069519 0.8495934959349594\n"
     ]
    }
   ],
   "source": [
    "for c in [0.01, 0.03, 0.1, 0.3, 1.0, 3.0, 10.0, 30.0, 100.0]:\n",
    "    model = sklearn.svm.SVC(C=c, kernel='rbf', degree=d, class_weight='balanced', probability=True)\n",
    "    model.fit(x, y)\n",
    "#     print(sklearn.metrics.roc_auc_score(y, model.predict_proba(x)[:,1]), model.score(x, y))\n",
    "    print(sklearn.metrics.roc_auc_score(y_v, model.predict_proba(x_v)[:,1]), model.score(x_v, y_v))"
   ]
  },
  {
   "cell_type": "code",
   "execution_count": 39,
   "metadata": {},
   "outputs": [
    {
     "name": "stdout",
     "output_type": "stream",
     "text": [
      "0.9190508021390374 0.8211382113821138\n",
      "0.9190508021390373 0.8373983739837398\n",
      "0.919451871657754 0.8373983739837398\n",
      "0.9170454545454546 0.8455284552845529\n",
      "0.9127005347593583 0.8536585365853658\n",
      "0.9098262032085561 0.8495934959349594\n",
      "0.906951871657754 0.8495934959349594\n",
      "0.9045454545454545 0.8495934959349594\n",
      "0.9040106951871657 0.8495934959349594\n"
     ]
    }
   ],
   "source": [
    "for c in [0.01, 0.03, 0.1, 0.3, 1.0, 3.0, 10.0, 30.0, 100.0]:\n",
    "    model = sklearn.linear_model.LogisticRegression(C=c, class_weight='balanced')\n",
    "    model.fit(x, y)\n",
    "    # print(sklearn.metrics.roc_auc_score(y, model.predict_proba(x)[:,1]), model.score(x, y))\n",
    "    print(sklearn.metrics.roc_auc_score(y_v, model.predict_proba(x_v)[:,1]), model.score(x_v, y_v))"
   ]
  },
  {
   "cell_type": "code",
   "execution_count": 30,
   "metadata": {
    "collapsed": true
   },
   "outputs": [],
   "source": [
    "model = xgboost.XGBClassifier(n_estimators=200)"
   ]
  },
  {
   "cell_type": "code",
   "execution_count": 31,
   "metadata": {},
   "outputs": [
    {
     "data": {
      "text/plain": [
       "XGBClassifier(base_score=0.5, booster='gbtree', colsample_bylevel=1,\n",
       "       colsample_bytree=1, gamma=0, learning_rate=0.1, max_delta_step=0,\n",
       "       max_depth=3, min_child_weight=1, missing=None, n_estimators=200,\n",
       "       n_jobs=1, nthread=None, objective='binary:logistic', random_state=0,\n",
       "       reg_alpha=0, reg_lambda=1, scale_pos_weight=1, seed=None,\n",
       "       silent=True, subsample=1)"
      ]
     },
     "execution_count": 31,
     "metadata": {},
     "output_type": "execute_result"
    }
   ],
   "source": [
    "model.fit(x, y)"
   ]
  },
  {
   "cell_type": "code",
   "execution_count": 32,
   "metadata": {},
   "outputs": [
    {
     "name": "stdout",
     "output_type": "stream",
     "text": [
      "0.998551180002793 0.9760914760914761\n",
      "0.9133021390374333 0.8414634146341463\n"
     ]
    },
    {
     "name": "stderr",
     "output_type": "stream",
     "text": [
      "C:\\Users\\gonglinyuan\\Anaconda3\\envs\\deep_learning\\lib\\site-packages\\sklearn\\preprocessing\\label.py:151: DeprecationWarning: The truth value of an empty array is ambiguous. Returning False, but in future this will result in an error. Use `array.size > 0` to check that an array is not empty.\n",
      "  if diff:\n",
      "C:\\Users\\gonglinyuan\\Anaconda3\\envs\\deep_learning\\lib\\site-packages\\sklearn\\preprocessing\\label.py:151: DeprecationWarning: The truth value of an empty array is ambiguous. Returning False, but in future this will result in an error. Use `array.size > 0` to check that an array is not empty.\n",
      "  if diff:\n"
     ]
    }
   ],
   "source": [
    "print(sklearn.metrics.roc_auc_score(y, model.predict_proba(x)[:,1]), model.score(x, y))\n",
    "print(sklearn.metrics.roc_auc_score(y_v, model.predict_proba(x_v)[:,1]), model.score(x_v, y_v))"
   ]
  },
  {
   "cell_type": "code",
   "execution_count": 41,
   "metadata": {},
   "outputs": [
    {
     "name": "stdout",
     "output_type": "stream",
     "text": [
      "0.9192513368983959 0.8414634146341463\n",
      "0.9190508021390376 0.8455284552845529\n",
      "0.9189839572192513 0.8455284552845529\n",
      "0.9190508021390373 0.8495934959349594\n",
      "0.9187165775401069 0.8455284552845529\n",
      "0.918716577540107 0.8333333333333334\n",
      "0.918716577540107 0.5528455284552846\n",
      "0.918716577540107 0.5528455284552846\n",
      "0.918716577540107 0.5528455284552846\n"
     ]
    },
    {
     "name": "stderr",
     "output_type": "stream",
     "text": [
      "C:\\Users\\gonglinyuan\\Anaconda3\\envs\\deep_learning\\lib\\site-packages\\sklearn\\preprocessing\\label.py:151: DeprecationWarning: The truth value of an empty array is ambiguous. Returning False, but in future this will result in an error. Use `array.size > 0` to check that an array is not empty.\n",
      "  if diff:\n",
      "C:\\Users\\gonglinyuan\\Anaconda3\\envs\\deep_learning\\lib\\site-packages\\sklearn\\preprocessing\\label.py:151: DeprecationWarning: The truth value of an empty array is ambiguous. Returning False, but in future this will result in an error. Use `array.size > 0` to check that an array is not empty.\n",
      "  if diff:\n",
      "C:\\Users\\gonglinyuan\\Anaconda3\\envs\\deep_learning\\lib\\site-packages\\sklearn\\preprocessing\\label.py:151: DeprecationWarning: The truth value of an empty array is ambiguous. Returning False, but in future this will result in an error. Use `array.size > 0` to check that an array is not empty.\n",
      "  if diff:\n",
      "C:\\Users\\gonglinyuan\\Anaconda3\\envs\\deep_learning\\lib\\site-packages\\sklearn\\preprocessing\\label.py:151: DeprecationWarning: The truth value of an empty array is ambiguous. Returning False, but in future this will result in an error. Use `array.size > 0` to check that an array is not empty.\n",
      "  if diff:\n",
      "C:\\Users\\gonglinyuan\\Anaconda3\\envs\\deep_learning\\lib\\site-packages\\sklearn\\preprocessing\\label.py:151: DeprecationWarning: The truth value of an empty array is ambiguous. Returning False, but in future this will result in an error. Use `array.size > 0` to check that an array is not empty.\n",
      "  if diff:\n",
      "C:\\Users\\gonglinyuan\\Anaconda3\\envs\\deep_learning\\lib\\site-packages\\sklearn\\preprocessing\\label.py:151: DeprecationWarning: The truth value of an empty array is ambiguous. Returning False, but in future this will result in an error. Use `array.size > 0` to check that an array is not empty.\n",
      "  if diff:\n",
      "C:\\Users\\gonglinyuan\\Anaconda3\\envs\\deep_learning\\lib\\site-packages\\sklearn\\preprocessing\\label.py:151: DeprecationWarning: The truth value of an empty array is ambiguous. Returning False, but in future this will result in an error. Use `array.size > 0` to check that an array is not empty.\n",
      "  if diff:\n",
      "C:\\Users\\gonglinyuan\\Anaconda3\\envs\\deep_learning\\lib\\site-packages\\sklearn\\preprocessing\\label.py:151: DeprecationWarning: The truth value of an empty array is ambiguous. Returning False, but in future this will result in an error. Use `array.size > 0` to check that an array is not empty.\n",
      "  if diff:\n",
      "C:\\Users\\gonglinyuan\\Anaconda3\\envs\\deep_learning\\lib\\site-packages\\sklearn\\preprocessing\\label.py:151: DeprecationWarning: The truth value of an empty array is ambiguous. Returning False, but in future this will result in an error. Use `array.size > 0` to check that an array is not empty.\n",
      "  if diff:\n"
     ]
    }
   ],
   "source": [
    "for c in [0.01, 0.03, 0.1, 0.3, 1.0, 3.0, 10.0, 30.0, 100.0]:\n",
    "    model = xgboost.XGBClassifier(booster='gblinear', reg_lambda=c)\n",
    "    model.fit(x, y)\n",
    "    # print(sklearn.metrics.roc_auc_score(y, model.predict_proba(x)[:,1]), model.score(x, y))\n",
    "    print(sklearn.metrics.roc_auc_score(y_v, model.predict_proba(x_v)[:,1]), model.score(x_v, y_v))"
   ]
  },
  {
   "cell_type": "code",
   "execution_count": null,
   "metadata": {
    "collapsed": true
   },
   "outputs": [],
   "source": [
    "model.score(x, y)"
   ]
  },
  {
   "cell_type": "code",
   "execution_count": null,
   "metadata": {
    "collapsed": true
   },
   "outputs": [],
   "source": [
    "ym = np.array(np.mean(x_v, axis=1) >= 0.5, dtype=np.int32)"
   ]
  },
  {
   "cell_type": "code",
   "execution_count": null,
   "metadata": {},
   "outputs": [],
   "source": [
    "1.0 - np.sum(np.abs(ym - y_v)) / y_v.shape"
   ]
  },
  {
   "cell_type": "code",
   "execution_count": 38,
   "metadata": {},
   "outputs": [
    {
     "data": {
      "text/plain": [
       "(246,)"
      ]
     },
     "execution_count": 38,
     "metadata": {},
     "output_type": "execute_result"
    }
   ],
   "source": [
    "y_v.shape"
   ]
  },
  {
   "cell_type": "code",
   "execution_count": 49,
   "metadata": {},
   "outputs": [
    {
     "data": {
      "text/plain": [
       "(962, 21)"
      ]
     },
     "execution_count": 49,
     "metadata": {},
     "output_type": "execute_result"
    }
   ],
   "source": [
    "x.shape"
   ]
  },
  {
   "cell_type": "code",
   "execution_count": 50,
   "metadata": {
    "collapsed": true
   },
   "outputs": [],
   "source": [
    "xx = x.reshape((x.shape[0], -1, 3))"
   ]
  },
  {
   "cell_type": "code",
   "execution_count": 56,
   "metadata": {},
   "outputs": [],
   "source": [
    "xx = np.mean(xx, axis=2)"
   ]
  },
  {
   "cell_type": "code",
   "execution_count": 58,
   "metadata": {},
   "outputs": [],
   "source": [
    "xxvv = np.mean(x_v.reshape((x_v.shape[0], -1, 3)), axis=2)"
   ]
  },
  {
   "cell_type": "code",
   "execution_count": 90,
   "metadata": {},
   "outputs": [
    {
     "name": "stdout",
     "output_type": "stream",
     "text": [
      "0.9191176470588236 0.8495934959349594\n",
      "0.9190842245989306 0.8455284552845529\n",
      "0.9197860962566844 0.8455284552845529\n",
      "0.9202540106951871 0.8455284552845529\n",
      "0.9184491978609626 0.8495934959349594\n",
      "0.9143716577540107 0.8495934959349594\n",
      "0.9114304812834225 0.8495934959349594\n",
      "0.911096256684492 0.8495934959349594\n",
      "0.911029411764706 0.8495934959349594\n"
     ]
    }
   ],
   "source": [
    "for c in [0.01, 0.03, 0.1, 0.3, 1.0, 3.0, 10.0, 30.0, 100.0]:\n",
    "    model = sklearn.svm.SVC(C=c, kernel='linear', class_weight='balanced', probability=True)\n",
    "    model.fit(xx, y)\n",
    "#     print(sklearn.metrics.roc_auc_score(y, model.predict_proba(x)[:,1]), model.score(x, y))\n",
    "    print(sklearn.metrics.roc_auc_score(y_v, model.predict_proba(xxvv)[:,1]), model.score(xxvv, y_v))"
   ]
  },
  {
   "cell_type": "code",
   "execution_count": 81,
   "metadata": {},
   "outputs": [
    {
     "name": "stdout",
     "output_type": "stream",
     "text": [
      "0.9191844919786095 0.8211382113821138\n",
      "0.9191844919786096 0.8373983739837398\n",
      "0.9191844919786095 0.8495934959349594\n",
      "0.9191176470588235 0.8536585365853658\n",
      "0.9189171122994653 0.8495934959349594\n",
      "0.9171122994652406 0.8455284552845529\n",
      "0.9138368983957219 0.8495934959349594\n",
      "0.9122326203208556 0.8495934959349594\n",
      "0.9113636363636365 0.8495934959349594\n"
     ]
    }
   ],
   "source": [
    "for c in [0.01, 0.03, 0.1, 0.3, 1.0, 3.0, 10.0, 30.0, 100.0]:\n",
    "    model = sklearn.linear_model.LogisticRegression(C=c, class_weight='balanced')\n",
    "    model.fit(xx, y)\n",
    "    # print(sklearn.metrics.roc_auc_score(y, model.predict_proba(x)[:,1]), model.score(x, y))\n",
    "    print(sklearn.metrics.roc_auc_score(y_v, model.predict_proba(xxvv)[:,1]), model.score(xxvv, y_v))"
   ]
  },
  {
   "cell_type": "code",
   "execution_count": 93,
   "metadata": {},
   "outputs": [
    {
     "name": "stdout",
     "output_type": "stream",
     "text": [
      "0.9191176470588235 0.8536585365853658\n"
     ]
    }
   ],
   "source": [
    "model = sklearn.linear_model.LogisticRegression(C=0.3, class_weight='balanced')\n",
    "model.fit(xx, y)\n",
    "# print(sklearn.metrics.roc_auc_score(y, model.predict_proba(x)[:,1]), model.score(x, y))\n",
    "print(sklearn.metrics.roc_auc_score(y_v, model.predict_proba(xxvv)[:,1]), model.score(xxvv, y_v))"
   ]
  },
  {
   "cell_type": "code",
   "execution_count": 94,
   "metadata": {},
   "outputs": [
    {
     "data": {
      "text/plain": [
       "array([[0.76198443, 0.28085372, 0.9414038 , 0.81867693, 1.0729546 ,\n",
       "        0.61292444, 1.34963773]])"
      ]
     },
     "execution_count": 94,
     "metadata": {},
     "output_type": "execute_result"
    }
   ],
   "source": [
    "model.coef_"
   ]
  },
  {
   "cell_type": "code",
   "execution_count": 91,
   "metadata": {},
   "outputs": [
    {
     "name": "stdout",
     "output_type": "stream",
     "text": [
      "0.9202540106951871 0.8455284552845529\n"
     ]
    }
   ],
   "source": [
    "model = sklearn.svm.SVC(C=0.3, kernel='linear', class_weight='balanced', probability=True)\n",
    "model.fit(xx, y)\n",
    "# print(sklearn.metrics.roc_auc_score(y, model.predict_proba(x)[:,1]), model.score(x, y))\n",
    "print(sklearn.metrics.roc_auc_score(y_v, model.predict_proba(xxvv)[:,1]), model.score(xxvv, y_v))"
   ]
  },
  {
   "cell_type": "code",
   "execution_count": 92,
   "metadata": {},
   "outputs": [
    {
     "data": {
      "text/plain": [
       "array([[ 0.47262572, -0.30441435,  0.67460634,  0.44582253,  0.85831541,\n",
       "         0.35509318,  1.11700536]])"
      ]
     },
     "execution_count": 92,
     "metadata": {},
     "output_type": "execute_result"
    }
   ],
   "source": [
    "model.coef_"
   ]
  },
  {
   "cell_type": "code",
   "execution_count": 136,
   "metadata": {},
   "outputs": [],
   "source": [
    "xxx = np.mean(x, axis=1)\n",
    "xxxx = np.mean(x_v, axis=1)"
   ]
  },
  {
   "cell_type": "code",
   "execution_count": 137,
   "metadata": {},
   "outputs": [
    {
     "data": {
      "text/plain": [
       "0.9185828877005346"
      ]
     },
     "execution_count": 137,
     "metadata": {},
     "output_type": "execute_result"
    }
   ],
   "source": [
    "sklearn.metrics.roc_auc_score(y_v, xxxx)"
   ]
  },
  {
   "cell_type": "code",
   "execution_count": 145,
   "metadata": {},
   "outputs": [
    {
     "name": "stdout",
     "output_type": "stream",
     "text": [
      "0.8648648648648649\n",
      "0.867983367983368\n",
      "0.8721413721413721\n",
      "0.8700623700623701\n",
      "0.8690228690228691\n",
      "0.8700623700623701\n",
      "0.8700623700623701\n",
      "0.8742203742203742\n",
      "0.8742203742203742\n",
      "0.8721413721413721\n",
      "0.8721413721413721\n",
      "0.8690228690228691\n",
      "0.8669438669438669\n",
      "0.8638253638253638\n",
      "0.8638253638253638\n",
      "0.8617463617463618\n",
      "0.8596673596673596\n",
      "0.8596673596673596\n",
      "0.8575883575883576\n",
      "0.8575883575883576\n",
      "0.8596673596673596\n",
      "0.8565488565488566\n",
      "0.8534303534303534\n",
      "0.8523908523908524\n",
      "0.8534303534303534\n",
      "0.8503118503118503\n",
      "0.8482328482328483\n",
      "0.8451143451143451\n",
      "0.8451143451143451\n",
      "0.843035343035343\n"
     ]
    }
   ],
   "source": [
    "for threshold in [0.31, 0.32, 0.33, 0.34, 0.35, 0.36, 0.37, 0.38, 0.39, 0.4, 0.41, 0.42, 0.43, 0.44, 0.45, 0.46, 0.47, 0.48, 0.49, 0.5, 0.51, 0.52, 0.53, 0.54, 0.55, 0.56, 0.57, 0.58, 0.59, 0.6]:\n",
    "    print(sklearn.metrics.accuracy_score(y, xxx >= threshold))"
   ]
  },
  {
   "cell_type": "code",
   "execution_count": 148,
   "metadata": {},
   "outputs": [
    {
     "name": "stdout",
     "output_type": "stream",
     "text": [
      "0.8170731707317073\n",
      "0.8292682926829268\n",
      "0.8373983739837398\n",
      "0.8333333333333334\n",
      "0.8373983739837398\n",
      "0.8373983739837398\n",
      "0.8373983739837398\n",
      "0.8414634146341463\n",
      "0.8414634146341463\n",
      "0.8455284552845529\n",
      "0.8455284552845529\n",
      "0.8414634146341463\n",
      "0.8414634146341463\n",
      "0.8414634146341463\n",
      "0.8455284552845529\n",
      "0.8536585365853658\n",
      "0.8495934959349594\n",
      "0.8495934959349594\n",
      "0.8536585365853658\n",
      "0.8536585365853658\n",
      "0.8495934959349594\n",
      "0.8455284552845529\n",
      "0.8455284552845529\n",
      "0.8455284552845529\n",
      "0.8455284552845529\n",
      "0.8455284552845529\n",
      "0.8455284552845529\n",
      "0.8455284552845529\n",
      "0.8455284552845529\n",
      "0.8414634146341463\n"
     ]
    }
   ],
   "source": [
    "for threshold in [0.31, 0.32, 0.33, 0.34, 0.35, 0.36, 0.37, 0.38, 0.39, 0.4, 0.41, 0.42, 0.43, 0.44, 0.45, 0.46, 0.47, 0.48, 0.49, 0.5, 0.51, 0.52, 0.53, 0.54, 0.55, 0.56, 0.57, 0.58, 0.59, 0.6]:\n",
    "    print(sklearn.metrics.accuracy_score(y_v, xxxx >= threshold))"
   ]
  },
  {
   "cell_type": "code",
   "execution_count": null,
   "metadata": {
    "collapsed": true
   },
   "outputs": [],
   "source": []
  }
 ],
 "metadata": {
  "kernelspec": {
   "display_name": "Python 3",
   "language": "python",
   "name": "python3"
  },
  "language_info": {
   "codemirror_mode": {
    "name": "ipython",
    "version": 3
   },
   "file_extension": ".py",
   "mimetype": "text/x-python",
   "name": "python",
   "nbconvert_exporter": "python",
   "pygments_lexer": "ipython3",
   "version": "3.6.2"
  }
 },
 "nbformat": 4,
 "nbformat_minor": 1
}
