{
 "cells": [
  {
   "cell_type": "code",
   "execution_count": 1,
   "metadata": {},
   "outputs": [],
   "source": [
    "# convert raw data to data that is accepted by keras ImageGenerator"
   ]
  },
  {
   "cell_type": "code",
   "execution_count": 2,
   "metadata": {},
   "outputs": [
    {
     "name": "stderr",
     "output_type": "stream",
     "text": [
      "/home3/gonglinyuan/anaconda3/envs/deep_learning/lib/python3.6/site-packages/h5py/__init__.py:36: FutureWarning: Conversion of the second argument of issubdtype from `float` to `np.floating` is deprecated. In future, it will be treated as `np.float64 == np.dtype(float).type`.\n",
      "  from ._conv import register_converters as _register_converters\n",
      "/home3/gonglinyuan/anaconda3/envs/deep_learning/lib/python3.6/importlib/_bootstrap.py:219: RuntimeWarning: compiletime version 3.5 of module 'tensorflow.python.framework.fast_tensor_util' does not match runtime version 3.6\n",
      "  return f(*args, **kwds)\n"
     ]
    }
   ],
   "source": [
    "import os\n",
    "import hashlib\n",
    "import shutil\n",
    "import numpy as np\n",
    "import pandas\n",
    "import h5py\n",
    "import tensorflow as tf\n",
    "from PIL import Image"
   ]
  },
  {
   "cell_type": "code",
   "execution_count": 3,
   "metadata": {},
   "outputs": [],
   "source": [
    "input_prefix = '../MURA_trainval/valid/'"
   ]
  },
  {
   "cell_type": "code",
   "execution_count": 4,
   "metadata": {},
   "outputs": [],
   "source": [
    "meta_data = pandas.read_csv('valid.csv', header=None).get_values()"
   ]
  },
  {
   "cell_type": "code",
   "execution_count": 5,
   "metadata": {},
   "outputs": [],
   "source": [
    "lst_ensemble_train_x, lst_ensemble_valid_x, lst_ensemble_train_y, lst_ensemble_valid_y = [], [], [], []\n",
    "for x_path, y in meta_data:\n",
    "    # different patient are divided into different sets\n",
    "    if hashlib.sha1((x_path.split('/')[3]).encode('utf-8')).hexdigest()[0] < 'd':\n",
    "        lst_ensemble_train_x.append(x_path)\n",
    "        lst_ensemble_train_y.append(y)\n",
    "    else:\n",
    "        lst_ensemble_valid_x.append(x_path)\n",
    "        lst_ensemble_valid_y.append(y)"
   ]
  },
  {
   "cell_type": "code",
   "execution_count": 11,
   "metadata": {},
   "outputs": [],
   "source": [
    "pandas.DataFrame(lst_ensemble_train_x).to_csv(\"../ensemble_train_x.csv\", header=False, index=False)\n",
    "pandas.DataFrame(lst_ensemble_train_y).to_csv(\"../ensemble_train_y.csv\", header=False, index=False)\n",
    "pandas.DataFrame(lst_ensemble_valid_x).to_csv(\"../ensemble_valid_x.csv\", header=False, index=False)\n",
    "pandas.DataFrame(lst_ensemble_valid_y).to_csv(\"../ensemble_valid_y.csv\", header=False, index=False)"
   ]
  }
 ],
 "metadata": {
  "kernelspec": {
   "display_name": "Python 3",
   "language": "python",
   "name": "python3"
  },
  "language_info": {
   "codemirror_mode": {
    "name": "ipython",
    "version": 3
   },
   "file_extension": ".py",
   "mimetype": "text/x-python",
   "name": "python",
   "nbconvert_exporter": "python",
   "pygments_lexer": "ipython3",
   "version": "3.6.5"
  }
 },
 "nbformat": 4,
 "nbformat_minor": 2
}
