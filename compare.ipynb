{
 "cells": [
  {
   "cell_type": "code",
   "execution_count": 1,
   "metadata": {
    "collapsed": true
   },
   "outputs": [],
   "source": [
    "# convert raw data to data that is accepted by pytorch"
   ]
  },
  {
   "cell_type": "code",
   "execution_count": 2,
   "metadata": {},
   "outputs": [
    {
     "name": "stderr",
     "output_type": "stream",
     "text": [
      "C:\\Users\\gonglinyuan\\Anaconda3\\envs\\deep_learning\\lib\\site-packages\\h5py\\__init__.py:34: FutureWarning: Conversion of the second argument of issubdtype from `float` to `np.floating` is deprecated. In future, it will be treated as `np.float64 == np.dtype(float).type`.\n",
      "  from ._conv import register_converters as _register_converters\n"
     ]
    }
   ],
   "source": [
    "import os\n",
    "import hashlib\n",
    "import shutil\n",
    "import numpy as np\n",
    "import pandas\n",
    "import h5py\n",
    "from PIL import Image"
   ]
  },
  {
   "cell_type": "code",
   "execution_count": null,
   "metadata": {
    "collapsed": true
   },
   "outputs": [],
   "source": [
    "input_prefix = '../MURA-v1.1/'\n",
    "output_prefix = '../MURA-v1.1_pytorch/'\n",
    "meta_data = pandas.read_csv(input_prefix + 'train_labeled_studies.csv', header=None).get_values()\n",
    "meta_data2 = pandas.read_csv(input_prefix + 'train_image_paths.csv', header=None).get_values()\n",
    "os.makedirs(output_prefix, mode=0o700, exist_ok=True)\n",
    "os.makedirs(output_prefix + '0/', mode=0o700, exist_ok=True)\n",
    "os.makedirs(output_prefix + '1/', mode=0o700, exist_ok=True)\n",
    "metadata_dict = dict(meta_data)\n",
    "for x_path in meta_data2.reshape(-1):\n",
    "    i_path = input_prefix + '/'.join(x_path.split('/')[1:])\n",
    "    y = metadata_dict['/'.join(x_path.split('/')[:-1]) + '/']\n",
    "    o_path = output_prefix + str(y) + '/' + hashlib.sha1(open(i_path, 'rb').read()).hexdigest() + '.png'\n",
    "    shutil.copy(i_path, o_path)"
   ]
  },
  {
   "cell_type": "code",
   "execution_count": 3,
   "metadata": {
    "collapsed": true
   },
   "outputs": [],
   "source": [
    "input_prefix = '../MURA-v1.1/'\n",
    "output_prefix = '../MURA-v1.1_valid_pytorch/'\n",
    "meta_data = pandas.read_csv(input_prefix + 'valid_labeled_studies.csv', header=None).get_values()\n",
    "meta_data2 = pandas.read_csv(input_prefix + 'valid_image_paths.csv', header=None).get_values()\n",
    "os.makedirs(output_prefix, mode=0o700, exist_ok=True)\n",
    "os.makedirs(output_prefix + '0/', mode=0o700, exist_ok=True)\n",
    "os.makedirs(output_prefix + '1/', mode=0o700, exist_ok=True)\n",
    "metadata_dict = dict(meta_data)\n",
    "for x_path in meta_data2.reshape(-1):\n",
    "    i_path = input_prefix + '/'.join(x_path.split('/')[1:])\n",
    "    y = metadata_dict['/'.join(x_path.split('/')[:-1]) + '/']\n",
    "    o_path = output_prefix + str(y) + '/' + hashlib.sha1(open(i_path, 'rb').read()).hexdigest() + '.png'\n",
    "    shutil.copy(i_path, o_path)"
   ]
  },
  {
   "cell_type": "code",
   "execution_count": null,
   "metadata": {
    "collapsed": true
   },
   "outputs": [],
   "source": [
    "input_prefix = '../MURA_trainval/'\n",
    "output_prefix = '../MURA_pytorch/'\n",
    "meta_data = pandas.read_csv(input_prefix + 'train.csv', header=None).get_values()\n",
    "os.makedirs(output_prefix, mode=0o700, exist_ok=True)\n",
    "os.makedirs(output_prefix + '0/', mode=0o700, exist_ok=True)\n",
    "os.makedirs(output_prefix + '1/', mode=0o700, exist_ok=True)\n",
    "for x_path, y in meta_data:\n",
    "    i_path = input_prefix + '/'.join(x_path.split('/')[1:])\n",
    "    o_path = output_prefix + str(y) + '/' + hashlib.sha1(open(i_path, 'rb').read()).hexdigest() + '.png'\n",
    "    shutil.copy(i_path, o_path)"
   ]
  },
  {
   "cell_type": "code",
   "execution_count": 4,
   "metadata": {
    "collapsed": true
   },
   "outputs": [],
   "source": [
    "input_prefix = '../MURA_trainval/'\n",
    "output_prefix = '../MURA_valid_pytorch/'\n",
    "meta_data = pandas.read_csv(input_prefix + 'valid.csv', header=None).get_values()\n",
    "os.makedirs(output_prefix, mode=0o700, exist_ok=True)\n",
    "os.makedirs(output_prefix + '0/', mode=0o700, exist_ok=True)\n",
    "os.makedirs(output_prefix + '1/', mode=0o700, exist_ok=True)\n",
    "for x_path, y in meta_data:\n",
    "    i_path = input_prefix + '/'.join(x_path.split('/')[1:])\n",
    "    o_path = output_prefix + str(y) + '/' + hashlib.sha1(open(i_path, 'rb').read()).hexdigest() + '.png'\n",
    "    shutil.copy(i_path, o_path)"
   ]
  }
 ],
 "metadata": {
  "kernelspec": {
   "display_name": "Python 3",
   "language": "python",
   "name": "python3"
  },
  "language_info": {
   "codemirror_mode": {
    "name": "ipython",
    "version": 3
   },
   "file_extension": ".py",
   "mimetype": "text/x-python",
   "name": "python",
   "nbconvert_exporter": "python",
   "pygments_lexer": "ipython3",
   "version": "3.6.2"
  }
 },
 "nbformat": 4,
 "nbformat_minor": 2
}
