{
 "cells": [
  {
   "cell_type": "code",
   "execution_count": null,
   "metadata": {},
   "outputs": [],
   "source": [
    "import functools\n",
    "import numpy as np\n",
    "import tensorflow as tf\n",
    "from keras.callbacks import ReduceLROnPlateau, ModelCheckpoint\n",
    "from keras.preprocessing.image import ImageDataGenerator\n",
    "from keras import backend as K\n",
    "from PIL import Image\n",
    "import dense_net_121"
   ]
  },
  {
   "cell_type": "code",
   "execution_count": null,
   "metadata": {
    "collapsed": true
   },
   "outputs": [],
   "source": [
    "data_train_path = '../MURA_trainval_keras/'\n",
    "data_valid_path = '../MURA_valid1_keras/'\n",
    "pretrained_weights_path = '../pretrain_network_weights/densenet121_weights_tf.h5'\n",
    "model_save_path = '../saved_models/'"
   ]
  },
  {
   "cell_type": "code",
   "execution_count": null,
   "metadata": {
    "collapsed": true
   },
   "outputs": [],
   "source": [
    "data_train_generator = ImageDataGenerator(horizontal_flip=True)"
   ]
  },
  {
   "cell_type": "code",
   "execution_count": null,
   "metadata": {},
   "outputs": [],
   "source": [
    "data_train_generator = data_train_generator.flow_from_directory(\n",
    "    data_train_path,\n",
    "    target_size=(256, 256),\n",
    "    color_mode='rgb',\n",
    "    class_mode='binary',\n",
    "    batch_size=16,\n",
    "    shuffle=True\n",
    ")"
   ]
  },
  {
   "cell_type": "code",
   "execution_count": null,
   "metadata": {
    "collapsed": true
   },
   "outputs": [],
   "source": [
    "data_valid_generator = ImageDataGenerator(horizontal_flip=True)"
   ]
  },
  {
   "cell_type": "code",
   "execution_count": null,
   "metadata": {},
   "outputs": [],
   "source": [
    "data_valid_generator = data_valid_generator.flow_from_directory(\n",
    "    data_valid_path,\n",
    "    target_size=(256, 256),\n",
    "    color_mode='rgb',\n",
    "    class_mode='binary',\n",
    "    batch_size=16,\n",
    "    shuffle=True\n",
    ")"
   ]
  },
  {
   "cell_type": "code",
   "execution_count": null,
   "metadata": {},
   "outputs": [],
   "source": [
    "model = dense_net_121.dense_net_121(256, 256, color_type=3, weights_path=pretrained_weights_path)"
   ]
  },
  {
   "cell_type": "code",
   "execution_count": null,
   "metadata": {},
   "outputs": [],
   "source": [
    "print(model.to_json())"
   ]
  },
  {
   "cell_type": "code",
   "execution_count": null,
   "metadata": {},
   "outputs": [],
   "source": [
    "K.tensorflow_backend._get_available_gpus()"
   ]
  },
  {
   "cell_type": "code",
   "execution_count": null,
   "metadata": {},
   "outputs": [],
   "source": [
    "model.fit_generator(\n",
    "    data_train_generator,\n",
    "    epochs=100,\n",
    "    verbose=2,\n",
    "    validation_data=data_valid_generator,\n",
    "    callbacks=[\n",
    "        ReduceLROnPlateau(monitor='val_loss', factor=0.1, patience=5, mode='min'),\n",
    "        ModelCheckpoint(\"dense_net_121_weights.{epoch:03d}-{val_loss:.2f}.h5\", monitor='val_loss', save_best_only=False, save_weights_only=True, mode='min', period=10)\n",
    "    ]\n",
    ")"
   ]
  },
  {
   "cell_type": "code",
   "execution_count": null,
   "metadata": {
    "collapsed": true
   },
   "outputs": [],
   "source": [
    "model.save(model_save_path + 'dense_net_121.h5')\n",
    "model.save_weights(model_save_path + 'dense_net_121_weights.h5')"
   ]
  }
 ],
 "metadata": {
  "kernelspec": {
   "display_name": "Python 3",
   "language": "python",
   "name": "python3"
  },
  "language_info": {
   "codemirror_mode": {
    "name": "ipython",
    "version": 3
   },
   "file_extension": ".py",
   "mimetype": "text/x-python",
   "name": "python",
   "nbconvert_exporter": "python",
   "pygments_lexer": "ipython3",
   "version": "3.6.2"
  }
 },
 "nbformat": 4,
 "nbformat_minor": 2
}
