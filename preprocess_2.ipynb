{
 "cells": [
  {
   "cell_type": "code",
   "execution_count": null,
   "metadata": {},
   "outputs": [],
   "source": [
    "# convert raw data to data that is accepted by pytorch DataLoader"
   ]
  },
  {
   "cell_type": "code",
   "execution_count": null,
   "metadata": {},
   "outputs": [],
   "source": [
    "import os\n",
    "import hashlib\n",
    "import shutil\n",
    "import numpy as np\n",
    "import pandas\n",
    "import h5py\n",
    "import tensorflow as tf\n",
    "from PIL import Image\n",
    "from tqdm import tqdm"
   ]
  },
  {
   "cell_type": "code",
   "execution_count": null,
   "metadata": {},
   "outputs": [],
   "source": [
    "input_prefix = '../MURA-v1.1/'\n",
    "output_prefix = '../MURA-v1.1-pytorch/'"
   ]
  },
  {
   "cell_type": "code",
   "execution_count": null,
   "metadata": {},
   "outputs": [],
   "source": [
    "labeled_studies = pandas.read_csv(input_prefix + 'train_labeled_studies.csv', header=None).get_values()\n",
    "image_paths = pandas.read_csv(input_prefix + 'train_image_paths.csv', header=None).get_values().reshape(-1)\n",
    "label_dict = dict(labeled_studies)"
   ]
  },
  {
   "cell_type": "code",
   "execution_count": null,
   "metadata": {},
   "outputs": [],
   "source": [
    "os.makedirs(output_prefix, mode=0o700, exist_ok=True)\n",
    "os.makedirs(output_prefix + '0/', mode=0o700, exist_ok=True)\n",
    "os.makedirs(output_prefix + '1/', mode=0o700, exist_ok=True)\n",
    "for x_path in tqdm(image_paths):\n",
    "    y = label_dict['/'.join(x_path.split('/')[:-1]) + '/']\n",
    "    i_path = input_prefix + '/'.join(x_path.split('/')[1:])\n",
    "    o_path = (output_prefix\n",
    "              + str(y) + '/'\n",
    "              + hashlib.sha1(('/'.join(x_path.split('/')[1:])).encode('utf-8')).hexdigest()\n",
    "              + '.png')\n",
    "#     print(y, i_path, o_path)\n",
    "    shutil.copy(i_path, o_path)"
   ]
  },
  {
   "cell_type": "code",
   "execution_count": null,
   "metadata": {},
   "outputs": [],
   "source": [
    "input_prefix = '../MURA-v1.1/'\n",
    "output_prefix_1 = '../MURA-v1.1-pytorch-valid1/'\n",
    "output_prefix_2 = '../MURA-v1.1-pytorch-valid2/'"
   ]
  },
  {
   "cell_type": "code",
   "execution_count": null,
   "metadata": {},
   "outputs": [],
   "source": [
    "labeled_studies = pandas.read_csv(input_prefix + 'valid_labeled_studies.csv', header=None).get_values()\n",
    "image_paths = pandas.read_csv(input_prefix + 'valid_image_paths.csv', header=None).get_values().reshape(-1)\n",
    "label_dict = dict(labeled_studies)"
   ]
  },
  {
   "cell_type": "code",
   "execution_count": null,
   "metadata": {},
   "outputs": [],
   "source": [
    "os.makedirs(output_prefix_1, mode=0o700, exist_ok=True)\n",
    "os.makedirs(output_prefix_1 + '0/', mode=0o700, exist_ok=True)\n",
    "os.makedirs(output_prefix_1 + '1/', mode=0o700, exist_ok=True)\n",
    "os.makedirs(output_prefix_2, mode=0o700, exist_ok=True)\n",
    "os.makedirs(output_prefix_2 + '0/', mode=0o700, exist_ok=True)\n",
    "os.makedirs(output_prefix_2 + '1/', mode=0o700, exist_ok=True)\n",
    "for x_path in tqdm(image_paths):\n",
    "    y = label_dict['/'.join(x_path.split('/')[:-1]) + '/']\n",
    "    # different patient are divided into different sets\n",
    "    if hashlib.sha1((x_path.split('/')[3]).encode('utf-8')).hexdigest()[0] < '8':\n",
    "        output_prefix = output_prefix_1\n",
    "    else:\n",
    "        output_prefix = output_prefix_2\n",
    "    i_path = input_prefix + '/'.join(x_path.split('/')[1:])\n",
    "    o_path = (output_prefix\n",
    "              + str(y) + '/'\n",
    "              + hashlib.sha1(('/'.join(x_path.split('/')[1:])).encode('utf-8')).hexdigest()\n",
    "              + '.png')\n",
    "#     print(y, i_path, o_path)\n",
    "    shutil.copy(i_path, o_path)"
   ]
  }
 ],
 "metadata": {
  "kernelspec": {
   "display_name": "Python 3",
   "language": "python",
   "name": "python3"
  },
  "language_info": {
   "codemirror_mode": {
    "name": "ipython",
    "version": 3
   },
   "file_extension": ".py",
   "mimetype": "text/x-python",
   "name": "python",
   "nbconvert_exporter": "python",
   "pygments_lexer": "ipython3",
   "version": "3.6.6"
  }
 },
 "nbformat": 4,
 "nbformat_minor": 2
}
