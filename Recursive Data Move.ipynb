{
 "cells": [
  {
   "cell_type": "code",
   "execution_count": 1,
   "metadata": {},
   "outputs": [],
   "source": [
    "import os,shutil"
   ]
  },
  {
   "cell_type": "code",
   "execution_count": 2,
   "metadata": {},
   "outputs": [],
   "source": [
    "source_directory = './MURA_trainval'\n",
    "target_directory = './MURA_Torch_Format'"
   ]
  },
  {
   "cell_type": "code",
   "execution_count": 3,
   "metadata": {},
   "outputs": [],
   "source": [
    "source_train_path = os.path.join(source_directory, 'train')\n",
    "source_valid_path = os.path.join(source_directory, 'valid')\n",
    "target_train_path = os.path.join(target_directory, 'train')\n",
    "target_valid_path = os.path.join(target_directory, 'valid')\n",
    "target_train_positive_path = os.path.join(target_train_path, 'positive')\n",
    "target_train_negative_path = os.path.join(target_train_path, 'negative')\n",
    "target_valid_positive_path = os.path.join(target_valid_path, 'positive')\n",
    "target_valid_negative_path = os.path.join(target_valid_path, 'negative')\n",
    "if not os.path.exists(target_directory):\n",
    "    os.makedirs(target_directory)\n",
    "if not os.path.exists(target_train_path):\n",
    "    os.makedirs(target_train_path)\n",
    "if not os.path.exists(target_valid_path):\n",
    "    os.makedirs(target_valid_path)\n",
    "if not os.path.exists(target_train_positive_path):\n",
    "    os.makedirs(target_train_positive_path)\n",
    "if not os.path.exists(target_train_negative_path):\n",
    "    os.makedirs(target_train_negative_path)\n",
    "if not os.path.exists(target_valid_positive_path):\n",
    "    os.makedirs(target_valid_positive_path)\n",
    "if not os.path.exists(target_valid_negative_path):\n",
    "    os.makedirs(target_valid_negative_path)"
   ]
  },
  {
   "cell_type": "code",
   "execution_count": 4,
   "metadata": {},
   "outputs": [],
   "source": [
    "def recur_move(target_pos_dir, target_neg_dir, source_dir):\n",
    "    filelist = os.listdir(source_dir)\n",
    "    for filename in filelist:\n",
    "        filepath = os.path.join(source_dir, filename)  \n",
    "        if os.path.isdir(filepath):  \n",
    "            recur_move(target_pos_dir, target_neg_dir, filepath)  \n",
    "        else:\n",
    "            dirList = filepath.split('/')\n",
    "            newName = '-'.join(dirList[2:])\n",
    "            if 'positive' in newName:\n",
    "                newPath = os.path.join(target_pos_dir, newName)\n",
    "                shutil.move(filepath, newPath)\n",
    "            elif 'negative' in newName:\n",
    "                newPath = os.path.join(target_neg_dir, newName)\n",
    "                shutil.move(filepath, newPath)\n",
    "            else:\n",
    "                print('skipping file ' + filepath)"
   ]
  },
  {
   "cell_type": "code",
   "execution_count": 5,
   "metadata": {},
   "outputs": [
    {
     "name": "stdout",
     "output_type": "stream",
     "text": [
      "skipping file ./MURA_trainval/valid/XR_ELBOW/patient11257/.DS_Store\n",
      "skipping file ./MURA_trainval/valid/XR_ELBOW/.DS_Store\n",
      "skipping file ./MURA_trainval/valid/.DS_Store\n"
     ]
    }
   ],
   "source": [
    "recur_move(target_train_positive_path, target_train_negative_path, source_train_path)\n",
    "recur_move(target_valid_positive_path, target_valid_negative_path, source_valid_path)"
   ]
  },
  {
   "cell_type": "code",
   "execution_count": null,
   "metadata": {},
   "outputs": [],
   "source": []
  }
 ],
 "metadata": {
  "kernelspec": {
   "display_name": "Python 3",
   "language": "python",
   "name": "python3"
  },
  "language_info": {
   "codemirror_mode": {
    "name": "ipython",
    "version": 3
   },
   "file_extension": ".py",
   "mimetype": "text/x-python",
   "name": "python",
   "nbconvert_exporter": "python",
   "pygments_lexer": "ipython3",
   "version": "3.6.4"
  }
 },
 "nbformat": 4,
 "nbformat_minor": 2
}
