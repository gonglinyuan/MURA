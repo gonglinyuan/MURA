{
 "cells": [
  {
   "cell_type": "code",
   "execution_count": null,
   "metadata": {
    "collapsed": true
   },
   "outputs": [],
   "source": [
    "# convert raw data to data that is accepted by keras ImageGenerator"
   ]
  },
  {
   "cell_type": "code",
   "execution_count": null,
   "metadata": {},
   "outputs": [],
   "source": [
    "import os\n",
    "import hashlib\n",
    "import shutil\n",
    "import numpy as np\n",
    "import pandas\n",
    "import h5py\n",
    "import tensorflow as tf\n",
    "from PIL import Image"
   ]
  },
  {
   "cell_type": "code",
   "execution_count": null,
   "metadata": {
    "collapsed": true
   },
   "outputs": [],
   "source": [
    "input_prefix = '../MURA_trainval/train/'\n",
    "output_prefix = '../MURA_trainval_keras/'"
   ]
  },
  {
   "cell_type": "code",
   "execution_count": null,
   "metadata": {
    "collapsed": true
   },
   "outputs": [],
   "source": [
    "meta_data = pandas.read_csv('train.csv', header=None).get_values()"
   ]
  },
  {
   "cell_type": "code",
   "execution_count": null,
   "metadata": {
    "collapsed": true
   },
   "outputs": [],
   "source": [
    "os.makedirs(output_prefix, mode=0o700, exist_ok=True)\n",
    "os.makedirs(output_prefix + '0/', mode=0o700, exist_ok=True)\n",
    "os.makedirs(output_prefix + '1/', mode=0o700, exist_ok=True)\n",
    "for x_path, y in meta_data:\n",
    "    i_path = input_prefix + '/'.join(x_path.split('/')[2:])\n",
    "    o_path = (output_prefix\n",
    "              + str(y) + '/'\n",
    "              + hashlib.sha1(('/'.join(x_path.split('/')[2:])).encode('utf-8')).hexdigest()\n",
    "              + '.png')\n",
    "    shutil.copy(i_path, o_path)"
   ]
  },
  {
   "cell_type": "code",
   "execution_count": null,
   "metadata": {
    "collapsed": true
   },
   "outputs": [],
   "source": [
    "input_prefix = '../MURA_trainval/valid/'\n",
    "output_prefix_1 = '../MURA_valid1_keras/'\n",
    "output_prefix_2 = '../MURA_valid2_keras/'"
   ]
  },
  {
   "cell_type": "code",
   "execution_count": null,
   "metadata": {
    "collapsed": true
   },
   "outputs": [],
   "source": [
    "meta_data = pandas.read_csv('valid.csv', header=None).get_values()"
   ]
  },
  {
   "cell_type": "code",
   "execution_count": null,
   "metadata": {},
   "outputs": [],
   "source": [
    "os.makedirs(output_prefix_1, mode=0o700, exist_ok=True)\n",
    "os.makedirs(output_prefix_1 + '0/', mode=0o700, exist_ok=True)\n",
    "os.makedirs(output_prefix_1 + '1/', mode=0o700, exist_ok=True)\n",
    "os.makedirs(output_prefix_2, mode=0o700, exist_ok=True)\n",
    "os.makedirs(output_prefix_2 + '0/', mode=0o700, exist_ok=True)\n",
    "os.makedirs(output_prefix_2 + '1/', mode=0o700, exist_ok=True)\n",
    "for x_path, y in meta_data:\n",
    "    # different patient are divided into different sets\n",
    "    if hashlib.sha1((x_path.split('/')[3]).encode('utf-8')).hexdigest()[0] < '8':\n",
    "        output_prefix = output_prefix_1\n",
    "    else:\n",
    "        output_prefix = output_prefix_2\n",
    "    i_path = input_prefix + '/'.join(x_path.split('/')[2:])\n",
    "    o_path = (output_prefix\n",
    "              + str(y) + '/'\n",
    "              + hashlib.sha1(('/'.join(x_path.split('/')[2:])).encode('utf-8')).hexdigest()\n",
    "              + '.png')\n",
    "    shutil.copy(i_path, o_path)"
   ]
  }
 ],
 "metadata": {
  "kernelspec": {
   "display_name": "Python 3",
   "language": "python",
   "name": "python3"
  },
  "language_info": {
   "codemirror_mode": {
    "name": "ipython",
    "version": 3
   },
   "file_extension": ".py",
   "mimetype": "text/x-python",
   "name": "python",
   "nbconvert_exporter": "python",
   "pygments_lexer": "ipython3",
   "version": "3.6.2"
  }
 },
 "nbformat": 4,
 "nbformat_minor": 2
}
