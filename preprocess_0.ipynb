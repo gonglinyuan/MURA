{
 "cells": [
  {
   "cell_type": "code",
   "execution_count": null,
   "metadata": {
    "collapsed": true
   },
   "outputs": [],
   "source": [
    "# convert raw training data to data that is accepted by keras ImageGenerator"
   ]
  },
  {
   "cell_type": "code",
   "execution_count": null,
   "metadata": {},
   "outputs": [],
   "source": [
    "import os\n",
    "import hashlib\n",
    "import shutil\n",
    "import numpy as np\n",
    "import pandas\n",
    "import h5py\n",
    "import tensorflow as tf\n",
    "from PIL import Image"
   ]
  },
  {
   "cell_type": "code",
   "execution_count": null,
   "metadata": {
    "collapsed": true
   },
   "outputs": [],
   "source": [
    "input_prefix = '../MURA_trainval/train/'\n",
    "output_prefix = '../MURA_trainval_keras/'"
   ]
  },
  {
   "cell_type": "code",
   "execution_count": null,
   "metadata": {
    "collapsed": true
   },
   "outputs": [],
   "source": [
    "meta_data = pandas.read_csv('train.csv', header=None).get_values()"
   ]
  },
  {
   "cell_type": "code",
   "execution_count": null,
   "metadata": {
    "collapsed": true
   },
   "outputs": [],
   "source": [
    "os.makedirs(output_prefix, mode=0o700, exist_ok=True)\n",
    "os.makedirs(output_prefix + '0/', mode=0o700, exist_ok=True)\n",
    "os.makedirs(output_prefix + '1/', mode=0o700, exist_ok=True)\n",
    "for x_path, y in meta_data:\n",
    "    i_path = input_prefix + '/'.join(x_path.split('/')[2:])\n",
    "    o_path = (output_prefix\n",
    "              + str(y) + '/'\n",
    "              + hashlib.sha1(('/'.join(x_path.split('/')[2:])).encode('utf-8')).hexdigest()\n",
    "              + '.png')\n",
    "    shutil.copy(i_path, o_path)"
   ]
  }
 ],
 "metadata": {
  "kernelspec": {
   "display_name": "Python 3",
   "language": "python",
   "name": "python3"
  },
  "language_info": {
   "codemirror_mode": {
    "name": "ipython",
    "version": 3
   },
   "file_extension": ".py",
   "mimetype": "text/x-python",
   "name": "python",
   "nbconvert_exporter": "python",
   "pygments_lexer": "ipython3",
   "version": "3.6.2"
  }
 },
 "nbformat": 4,
 "nbformat_minor": 2
}
